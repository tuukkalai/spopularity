{
 "cells": [
  {
   "cell_type": "markdown",
   "id": "2be3de0c",
   "metadata": {},
   "source": [
    "# Spopularity\n",
    "\n",
    "---\n"
   ]
  },
  {
   "cell_type": "markdown",
   "id": "ae73de09",
   "metadata": {},
   "source": [
    "# Requesting new token\n",
    "\n",
    "First request is for updating the token, if needed. Credentials are stored in `credentials.json` -file.\n"
   ]
  },
  {
   "cell_type": "code",
   "execution_count": 13,
   "id": "21d07df7",
   "metadata": {},
   "outputs": [
    {
     "name": "stdout",
     "output_type": "stream",
     "text": [
      "<spotipy.oauth2.SpotifyClientCredentials object at 0x10488e350>\n",
      "{'external_urls': {'spotify': 'https://open.spotify.com/artist/0TnOYISbd1XYRBk9myaseg'}, 'followers': {'href': None, 'total': 10274578}, 'genres': ['dance pop', 'miami hip hop', 'pop'], 'href': 'https://api.spotify.com/v1/artists/0TnOYISbd1XYRBk9myaseg', 'id': '0TnOYISbd1XYRBk9myaseg', 'images': [{'height': 640, 'url': 'https://i.scdn.co/image/ab6761610000e5eb6761852cd2852fceb64e8cd9', 'width': 640}, {'height': 320, 'url': 'https://i.scdn.co/image/ab676161000051746761852cd2852fceb64e8cd9', 'width': 320}, {'height': 160, 'url': 'https://i.scdn.co/image/ab6761610000f1786761852cd2852fceb64e8cd9', 'width': 160}], 'name': 'Pitbull', 'popularity': 81, 'type': 'artist', 'uri': 'spotify:artist:0TnOYISbd1XYRBk9myaseg'}\n"
     ]
    }
   ],
   "source": [
    "import json\n",
    "import spotipy\n",
    "import time\n",
    "\n",
    "\n",
    "def get_token():\n",
    "    client_id = \"\"\n",
    "    client_secret = \"\"\n",
    "    token = \"\"\n",
    "    expiration = 0\n",
    "\n",
    "    with open(\"credentials.json\", \"r\") as f:\n",
    "        credentials = json.load(f)\n",
    "        client_id = credentials[\"client_id\"]\n",
    "        client_secret = credentials[\"client_secret\"]\n",
    "        token = credentials[\"token\"]\n",
    "        expiration = credentials[\"expiration\"]\n",
    "\n",
    "    if not token or expiration < time.time():\n",
    "        token = spotipy.oauth2.SpotifyClientCredentials(\n",
    "            client_id=client_id, client_secret=client_secret\n",
    "        )\n",
    "        token = token.get_access_token(as_dict=False)\n",
    "        credentials[\"token\"] = token\n",
    "        credentials[\"expiration\"] = int(time.time() + 3600)\n",
    "\n",
    "        with open(\"credentials.json\", \"w\") as f:\n",
    "            f.write(json.dumps(credentials))\n",
    "\n",
    "    return token\n",
    "\n",
    "\n",
    "s = spotipy.Spotify(get_token())\n",
    "print(s.artist(\"0TnOYISbd1XYRBk9myaseg\"))"
   ]
  },
  {
   "cell_type": "code",
   "execution_count": null,
   "id": "0f9f94fa",
   "metadata": {},
   "outputs": [],
   "source": []
  }
 ],
 "metadata": {
  "kernelspec": {
   "display_name": "Python 3 (ipykernel)",
   "language": "python",
   "name": "python3"
  },
  "language_info": {
   "codemirror_mode": {
    "name": "ipython",
    "version": 3
   },
   "file_extension": ".py",
   "mimetype": "text/x-python",
   "name": "python",
   "nbconvert_exporter": "python",
   "pygments_lexer": "ipython3",
   "version": "3.11.5"
  }
 },
 "nbformat": 4,
 "nbformat_minor": 5
}
