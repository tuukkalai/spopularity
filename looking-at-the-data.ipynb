{
 "cells": [
  {
   "cell_type": "markdown",
   "id": "2be3de0c",
   "metadata": {},
   "source": [
    "# Spopularity\n",
    "\n",
    "---\n"
   ]
  },
  {
   "cell_type": "markdown",
   "id": "ae73de09",
   "metadata": {},
   "source": [
    "# Requesting new token\n",
    "\n",
    "First request is for updating the token, if needed. Credentials are stored in `credentials.json` -file.\n"
   ]
  },
  {
   "cell_type": "code",
   "execution_count": 1,
   "id": "21d07df7",
   "metadata": {},
   "outputs": [],
   "source": [
    "import json\n",
    "import spotipy\n",
    "import time\n",
    "\n",
    "\n",
    "def get_token():\n",
    "    client_id = \"\"\n",
    "    client_secret = \"\"\n",
    "    token = \"\"\n",
    "    expiration = 0\n",
    "\n",
    "    with open(\"credentials.json\", \"r\") as f:\n",
    "        credentials = json.load(f)\n",
    "        client_id = credentials[\"client_id\"]\n",
    "        client_secret = credentials[\"client_secret\"]\n",
    "        token = credentials[\"token\"]\n",
    "        expiration = credentials[\"expiration\"]\n",
    "\n",
    "    if not token or expiration < time.time():\n",
    "        token = spotipy.oauth2.SpotifyClientCredentials(\n",
    "            client_id=client_id, client_secret=client_secret\n",
    "        )\n",
    "        token = token.get_access_token(as_dict=False)\n",
    "        credentials[\"token\"] = token\n",
    "        credentials[\"expiration\"] = int(time.time() + 3600)\n",
    "\n",
    "        with open(\"credentials.json\", \"w\") as f:\n",
    "            f.write(json.dumps(credentials))\n",
    "\n",
    "    return token\n",
    "\n",
    "\n",
    "s = spotipy.Spotify(get_token())"
   ]
  },
  {
   "cell_type": "code",
   "execution_count": 2,
   "id": "0f9f94fa",
   "metadata": {},
   "outputs": [
    {
     "name": "stdout",
     "output_type": "stream",
     "text": [
      "                                      Track Name                Track ID  \\\n",
      "0                                        vampire  1kuGVB7EU95pJObxwvfwKS   \n",
      "1                             Paint The Town Red  2IGMVunIBsBLtEQyoI1Mu7   \n",
      "2  I Remember Everything (feat. Kacey Musgraves)  4KULAymBBJcPRpk1yO4dOG   \n",
      "3                                       Fast Car  1Lo0QY9cvc8sUB2vnIOxDT   \n",
      "4                                   Cruel Summer  1BxfuPKGuaTgP7aM0Bbdwr   \n",
      "\n",
      "      Artist Name  Popularity  \n",
      "0  Olivia Rodrigo          92  \n",
      "1        Doja Cat         100  \n",
      "2      Zach Bryan          91  \n",
      "3      Luke Combs          90  \n",
      "4    Taylor Swift          98  \n",
      "       Popularity\n",
      "count    5.000000\n",
      "mean    94.200000\n",
      "std      4.494441\n",
      "min     90.000000\n",
      "25%     91.000000\n",
      "50%     92.000000\n",
      "75%     98.000000\n",
      "max    100.000000\n"
     ]
    }
   ],
   "source": [
    "import pandas as pd\n",
    "\n",
    "\n",
    "billboard_top_5 = [\n",
    "    \"1kuGVB7EU95pJObxwvfwKS\",\n",
    "    \"2IGMVunIBsBLtEQyoI1Mu7\",\n",
    "    \"4KULAymBBJcPRpk1yO4dOG\",\n",
    "    \"1Lo0QY9cvc8sUB2vnIOxDT\",\n",
    "    \"1BxfuPKGuaTgP7aM0Bbdwr\",\n",
    "]\n",
    "\n",
    "track_details = s.tracks(billboard_top_5)\n",
    "\n",
    "tracks = []\n",
    "for t in track_details[\"tracks\"]:\n",
    "    track_name = t[\"name\"]\n",
    "    track_id = t[\"id\"]\n",
    "    artist_name = t[\"artists\"][0][\"name\"]\n",
    "    popularity = t[\"popularity\"]\n",
    "    tracks.append([track_name, track_id, artist_name, popularity])\n",
    "\n",
    "df = pd.DataFrame(tracks, columns=[\"Track Name\", \"Track ID\", \"Artist Name\", \"Popularity\"])\n",
    "\n",
    "print(df.head())\n",
    "print(df.describe())"
   ]
  },
  {
   "cell_type": "code",
   "execution_count": null,
   "id": "21820dd0",
   "metadata": {},
   "outputs": [],
   "source": []
  }
 ],
 "metadata": {
  "kernelspec": {
   "display_name": "Python 3 (ipykernel)",
   "language": "python",
   "name": "python3"
  },
  "language_info": {
   "codemirror_mode": {
    "name": "ipython",
    "version": 3
   },
   "file_extension": ".py",
   "mimetype": "text/x-python",
   "name": "python",
   "nbconvert_exporter": "python",
   "pygments_lexer": "ipython3",
   "version": "3.11.5"
  }
 },
 "nbformat": 4,
 "nbformat_minor": 5
}
